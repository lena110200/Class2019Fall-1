{
  "nbformat": 4,
  "nbformat_minor": 0,
  "metadata": {
    "colab": {
      "name": "gradio_practice.ipynb",
      "provenance": [],
      "include_colab_link": true
    },
    "kernelspec": {
      "name": "python3",
      "display_name": "Python 3"
    },
    "language_info": {
      "name": "python"
    }
  },
  "cells": [
    {
      "cell_type": "markdown",
      "metadata": {
        "id": "view-in-github",
        "colab_type": "text"
      },
      "source": [
        "<a href=\"https://colab.research.google.com/github/lena110200/Class2022-spring/blob/master/20220328.ipynb\" target=\"_parent\"><img src=\"https://colab.research.google.com/assets/colab-badge.svg\" alt=\"Open In Colab\"/></a>"
      ]
    },
    {
      "cell_type": "code",
      "source": [
        "!pip install gradio\n",
        "import gradio as gr\n",
        "import requests\n",
        "import pandas as pd"
      ],
      "metadata": {
        "id": "8Q5znRrXieb9"
      },
      "execution_count": null,
      "outputs": []
    },
    {
      "cell_type": "code",
      "source": [
        "URL=('http://apis.data.go.kr/1661000/EmergencyStatisticsService/'\n",
        "'getTrafficAccidentEmgActStats?'\n",
        "'serviceKey=adgNyE%2FxelU10iM70NZqMK9G27yKcE5tNCEaSiXpKa6NKORUXw5fU7qErYZL5%2BC0p2ZcRGhQUxxjasT7Oi58OQ%3D%3D'\n",
        "'&numOfRows=2'\n",
        "'&pageNo=1'\n",
        "'&resultType=json'\n",
        "'&sidoHqOgidNm=인천소방본부'\n",
        "'&rsacGutFsttOgidNm=부평소방서'\n",
        "'&rcptYm=202101'\n",
        "'&rlifOccrTyCdNm=기타')\n",
        "response = requests.get(URL)"
      ],
      "metadata": {
        "id": "-eEv5YlxrI4T"
      },
      "execution_count": 66,
      "outputs": []
    },
    {
      "cell_type": "code",
      "source": [
        "r = response.json()\n",
        "r"
      ],
      "metadata": {
        "id": "HIJv8IJ7zy-e",
        "outputId": "ca848e60-0d60-4af8-f6a7-eaf0148922bb",
        "colab": {
          "base_uri": "https://localhost:8080/"
        }
      },
      "execution_count": 67,
      "outputs": [
        {
          "output_type": "execute_result",
          "data": {
            "text/plain": [
              "{'body': {'items': [{'gutCo': 25,\n",
              "    'rcptYm': '202101',\n",
              "    'rlifAcdAsmCdNm': '운전자',\n",
              "    'rlifOccrTyCdNm': '기타',\n",
              "    'rsacGutFsttOgidNm': '부평소방서',\n",
              "    'sidoHqOgidNm': '인천소방본부',\n",
              "    'trnfCo': 25,\n",
              "    'trnfPcnt': 25},\n",
              "   {'gutCo': 17,\n",
              "    'rcptYm': '202101',\n",
              "    'rlifAcdAsmCdNm': '보행자',\n",
              "    'rlifOccrTyCdNm': '기타',\n",
              "    'rsacGutFsttOgidNm': '부평소방서',\n",
              "    'sidoHqOgidNm': '인천소방본부',\n",
              "    'trnfCo': 17,\n",
              "    'trnfPcnt': 17}]},\n",
              " 'header': {'resultCode': '00', 'resultMsg': 'NORMAL SERVICE'},\n",
              " 'numOfRows': 2,\n",
              " 'pageNo': 1,\n",
              " 'totalCount': 6}"
            ]
          },
          "metadata": {},
          "execution_count": 67
        }
      ]
    },
    {
      "cell_type": "code",
      "source": [
        "items=r['body']['items']\n",
        "items"
      ],
      "metadata": {
        "id": "kjfVgr0EOoui",
        "outputId": "e20f5b0a-709c-4f01-c9ef-97cc8ac5ccf7",
        "colab": {
          "base_uri": "https://localhost:8080/"
        }
      },
      "execution_count": 69,
      "outputs": [
        {
          "output_type": "execute_result",
          "data": {
            "text/plain": [
              "[{'gutCo': 25,\n",
              "  'rcptYm': '202101',\n",
              "  'rlifAcdAsmCdNm': '운전자',\n",
              "  'rlifOccrTyCdNm': '기타',\n",
              "  'rsacGutFsttOgidNm': '부평소방서',\n",
              "  'sidoHqOgidNm': '인천소방본부',\n",
              "  'trnfCo': 25,\n",
              "  'trnfPcnt': 25},\n",
              " {'gutCo': 17,\n",
              "  'rcptYm': '202101',\n",
              "  'rlifAcdAsmCdNm': '보행자',\n",
              "  'rlifOccrTyCdNm': '기타',\n",
              "  'rsacGutFsttOgidNm': '부평소방서',\n",
              "  'sidoHqOgidNm': '인천소방본부',\n",
              "  'trnfCo': 17,\n",
              "  'trnfPcnt': 17}]"
            ]
          },
          "metadata": {},
          "execution_count": 69
        }
      ]
    },
    {
      "cell_type": "code",
      "source": [
        "gutCo = [item['gutCo'] for item in items]\n",
        "rlifAcdAsmCdNm = [item['rlifAcdAsmCdNm'] for item in items]\n",
        "trnfCo = [item['trnfCo'] for item in items]\n",
        "sidoHqOgidNm = [item['sidoHqOgidNm'] for item in items]\n",
        "\n",
        "gutCo = pd.Series(gutCo)\n",
        "rlifAcdAsmCdNm = pd.Series(rlifAcdAsmCdNm)\n",
        "trnfCo = pd.Series(trnfCo)\n",
        "sidoHqOgidNm = pd.Series(sidoHqOgidNm)\n",
        "\n",
        "df = pd.DataFrame({ 'gutCo': gutCo,'rlifAcdAsmCdNm':rlifAcdAsmCdNm,'trnfCo':trnfCo,'sidoHqOgidNm':sidoHqOgidNm})\n",
        "df"
      ],
      "metadata": {
        "id": "tYV3crkOPtN_",
        "outputId": "7295f14d-3cb2-4085-8846-360dd23dbe03",
        "colab": {
          "base_uri": "https://localhost:8080/",
          "height": 112
        }
      },
      "execution_count": 75,
      "outputs": [
        {
          "output_type": "execute_result",
          "data": {
            "text/plain": [
              "   gutCo rlifAcdAsmCdNm  trnfCo sidoHqOgidNm\n",
              "0     25            운전자      25       인천소방본부\n",
              "1     17            보행자      17       인천소방본부"
            ],
            "text/html": [
              "\n",
              "  <div id=\"df-dc595d45-9f27-4a15-b3ee-fa444583fd37\">\n",
              "    <div class=\"colab-df-container\">\n",
              "      <div>\n",
              "<style scoped>\n",
              "    .dataframe tbody tr th:only-of-type {\n",
              "        vertical-align: middle;\n",
              "    }\n",
              "\n",
              "    .dataframe tbody tr th {\n",
              "        vertical-align: top;\n",
              "    }\n",
              "\n",
              "    .dataframe thead th {\n",
              "        text-align: right;\n",
              "    }\n",
              "</style>\n",
              "<table border=\"1\" class=\"dataframe\">\n",
              "  <thead>\n",
              "    <tr style=\"text-align: right;\">\n",
              "      <th></th>\n",
              "      <th>gutCo</th>\n",
              "      <th>rlifAcdAsmCdNm</th>\n",
              "      <th>trnfCo</th>\n",
              "      <th>sidoHqOgidNm</th>\n",
              "    </tr>\n",
              "  </thead>\n",
              "  <tbody>\n",
              "    <tr>\n",
              "      <th>0</th>\n",
              "      <td>25</td>\n",
              "      <td>운전자</td>\n",
              "      <td>25</td>\n",
              "      <td>인천소방본부</td>\n",
              "    </tr>\n",
              "    <tr>\n",
              "      <th>1</th>\n",
              "      <td>17</td>\n",
              "      <td>보행자</td>\n",
              "      <td>17</td>\n",
              "      <td>인천소방본부</td>\n",
              "    </tr>\n",
              "  </tbody>\n",
              "</table>\n",
              "</div>\n",
              "      <button class=\"colab-df-convert\" onclick=\"convertToInteractive('df-dc595d45-9f27-4a15-b3ee-fa444583fd37')\"\n",
              "              title=\"Convert this dataframe to an interactive table.\"\n",
              "              style=\"display:none;\">\n",
              "        \n",
              "  <svg xmlns=\"http://www.w3.org/2000/svg\" height=\"24px\"viewBox=\"0 0 24 24\"\n",
              "       width=\"24px\">\n",
              "    <path d=\"M0 0h24v24H0V0z\" fill=\"none\"/>\n",
              "    <path d=\"M18.56 5.44l.94 2.06.94-2.06 2.06-.94-2.06-.94-.94-2.06-.94 2.06-2.06.94zm-11 1L8.5 8.5l.94-2.06 2.06-.94-2.06-.94L8.5 2.5l-.94 2.06-2.06.94zm10 10l.94 2.06.94-2.06 2.06-.94-2.06-.94-.94-2.06-.94 2.06-2.06.94z\"/><path d=\"M17.41 7.96l-1.37-1.37c-.4-.4-.92-.59-1.43-.59-.52 0-1.04.2-1.43.59L10.3 9.45l-7.72 7.72c-.78.78-.78 2.05 0 2.83L4 21.41c.39.39.9.59 1.41.59.51 0 1.02-.2 1.41-.59l7.78-7.78 2.81-2.81c.8-.78.8-2.07 0-2.86zM5.41 20L4 18.59l7.72-7.72 1.47 1.35L5.41 20z\"/>\n",
              "  </svg>\n",
              "      </button>\n",
              "      \n",
              "  <style>\n",
              "    .colab-df-container {\n",
              "      display:flex;\n",
              "      flex-wrap:wrap;\n",
              "      gap: 12px;\n",
              "    }\n",
              "\n",
              "    .colab-df-convert {\n",
              "      background-color: #E8F0FE;\n",
              "      border: none;\n",
              "      border-radius: 50%;\n",
              "      cursor: pointer;\n",
              "      display: none;\n",
              "      fill: #1967D2;\n",
              "      height: 32px;\n",
              "      padding: 0 0 0 0;\n",
              "      width: 32px;\n",
              "    }\n",
              "\n",
              "    .colab-df-convert:hover {\n",
              "      background-color: #E2EBFA;\n",
              "      box-shadow: 0px 1px 2px rgba(60, 64, 67, 0.3), 0px 1px 3px 1px rgba(60, 64, 67, 0.15);\n",
              "      fill: #174EA6;\n",
              "    }\n",
              "\n",
              "    [theme=dark] .colab-df-convert {\n",
              "      background-color: #3B4455;\n",
              "      fill: #D2E3FC;\n",
              "    }\n",
              "\n",
              "    [theme=dark] .colab-df-convert:hover {\n",
              "      background-color: #434B5C;\n",
              "      box-shadow: 0px 1px 3px 1px rgba(0, 0, 0, 0.15);\n",
              "      filter: drop-shadow(0px 1px 2px rgba(0, 0, 0, 0.3));\n",
              "      fill: #FFFFFF;\n",
              "    }\n",
              "  </style>\n",
              "\n",
              "      <script>\n",
              "        const buttonEl =\n",
              "          document.querySelector('#df-dc595d45-9f27-4a15-b3ee-fa444583fd37 button.colab-df-convert');\n",
              "        buttonEl.style.display =\n",
              "          google.colab.kernel.accessAllowed ? 'block' : 'none';\n",
              "\n",
              "        async function convertToInteractive(key) {\n",
              "          const element = document.querySelector('#df-dc595d45-9f27-4a15-b3ee-fa444583fd37');\n",
              "          const dataTable =\n",
              "            await google.colab.kernel.invokeFunction('convertToInteractive',\n",
              "                                                     [key], {});\n",
              "          if (!dataTable) return;\n",
              "\n",
              "          const docLinkHtml = 'Like what you see? Visit the ' +\n",
              "            '<a target=\"_blank\" href=https://colab.research.google.com/notebooks/data_table.ipynb>data table notebook</a>'\n",
              "            + ' to learn more about interactive tables.';\n",
              "          element.innerHTML = '';\n",
              "          dataTable['output_type'] = 'display_data';\n",
              "          await google.colab.output.renderOutput(dataTable, element);\n",
              "          const docLink = document.createElement('div');\n",
              "          docLink.innerHTML = docLinkHtml;\n",
              "          element.appendChild(docLink);\n",
              "        }\n",
              "      </script>\n",
              "    </div>\n",
              "  </div>\n",
              "  "
            ]
          },
          "metadata": {},
          "execution_count": 75
        }
      ]
    },
    {
      "cell_type": "code",
      "source": [
        "iface = gr.Interface(sum, gr.inputs.Dropdown(['25','17']), outputs=['dataframe'])\n",
        "iface.launch(debug=True)"
      ],
      "metadata": {
        "id": "b8Z67-V9W3IO"
      },
      "execution_count": null,
      "outputs": []
    }
  ]
}