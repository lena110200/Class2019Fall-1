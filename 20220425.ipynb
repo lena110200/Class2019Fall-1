{
  "nbformat": 4,
  "nbformat_minor": 0,
  "metadata": {
    "colab": {
      "name": "Untitled1.ipynb",
      "provenance": [],
      "authorship_tag": "ABX9TyMhgp9B8wan1DC9bWjOwkZW",
      "include_colab_link": true
    },
    "kernelspec": {
      "name": "python3",
      "display_name": "Python 3"
    },
    "language_info": {
      "name": "python"
    }
  },
  "cells": [
    {
      "cell_type": "markdown",
      "metadata": {
        "id": "view-in-github",
        "colab_type": "text"
      },
      "source": [
        "<a href=\"https://colab.research.google.com/github/lena110200/Class2022-spring/blob/master/20220425.ipynb\" target=\"_parent\"><img src=\"https://colab.research.google.com/assets/colab-badge.svg\" alt=\"Open In Colab\"/></a>"
      ]
    },
    {
      "cell_type": "markdown",
      "source": [
        "autocorrelation : 자기상관성 - 어떤 확률변수가 주어졌을 때, 서로 다른 두 시점에서의 관측치 사이에 나타나는 상관성을 의미한다. 시계열 데이터에서는 현재의 상태가 과거와 미래의 상태에 밀전한 연관을 갖게 되며, 이럴때 시계열 데이터는 자기상관성이 있다고 한다. \n",
        "\n",
        "Root Mean Square : 변화하는 값의 크기에 대한 통계적 척도 / 이는 사인함수처럼 변수들이 음과 양을 오고 갈 때 유용하다. 즉, 변수들의 분포가 음과 양의 값을 골고루 가질 때 그 크기의 정도를 알아보고자 할때 유용한 방법이다. \n",
        "이는 유한 값들의 급수 또는 연속적으로 변화하는 함수에 대해 모두 계산될 수 있으며, 값들의 제곱에 대한 평균의 제곱근을 의미한다. \n",
        "{x1,x2, ...xn} 에 대한 RMS = \n",
        "(X1^2 +...Xn^2 / n)^1/2"
      ],
      "metadata": {
        "id": "TkwUNM90eSaP"
      }
    }
  ]
}