{
  "nbformat": 4,
  "nbformat_minor": 0,
  "metadata": {
    "colab": {
      "name": "audio_processing.ipynb",
      "provenance": [],
      "include_colab_link": true
    },
    "kernelspec": {
      "name": "python3",
      "display_name": "Python 3"
    },
    "language_info": {
      "name": "python"
    }
  },
  "cells": [
    {
      "cell_type": "markdown",
      "metadata": {
        "id": "view-in-github",
        "colab_type": "text"
      },
      "source": [
        "<a href=\"https://colab.research.google.com/github/lena110200/Class2022-spring/blob/master/audio_processing.ipynb\" target=\"_parent\"><img src=\"https://colab.research.google.com/assets/colab-badge.svg\" alt=\"Open In Colab\"/></a>"
      ]
    },
    {
      "cell_type": "code",
      "source": [
        "시험 상당부분 나옴 \n",
        "Spectrogram : \n",
        "signal(시간 축의 파형)이 있다고 할때 어떤 성분이 많은지가 중요. 낮음음, 높은음이 많은지 \n",
        "/ 어떤 주파수가 많은지 입체적으로 보여줌 \n",
        "spectrogram - 어떤 성분이 많은지 보는거 / x축는 시간 y는 주파수freq !!/ 높은쪽의 주파수가 많으면 빨강노랑으로 보임\n",
        "어느 주파수부분이 많냐에 따라 '아'인지 '이'모음인지 구분가능 \n",
        "일종의 산맥 형성. 일상적 소리는 하나의 사인곡선으로 만들어지는게 아니라 다양한 성분으로 합쳐져 있음 (악기, 목소리)\n",
        "공명하는 다른 음들도 동시에 나는것 \n",
        "휘파람 - 비교적 하나의 사인곡선과 비슷 / 드럼소리는 아래쪽  --> wave상에서는 볼수없음. 주파수분석을 해야함 \n",
        "새소리는 위쪽, 높은 주파수 / \n",
        "스팩트럼 여러장이 시간축으로 나오고있는것. \n",
        "spectrogram : 한장의 스팩트럼을 시간축으로 concatenate한것 \n",
        "아에이오우 각각 주파수 다름. \n",
        "x축 freq y축 amp : spectrum 이걸 시간축으로 쌓아놓고 입체로 본게 스팩트로그램 \n",
        "-concatenate over time \n",
        "높은 주파스가 많으면 x 뒤쪽에 높게 \n",
        "\n",
        "#inner product : 10hz를 inner product했는데 0.001이 나오면 given signal에 해당 주파수가 별로 없다는 뜻 \n",
        "#왜 sine phasor안쓰고 complex phasor쓰나 ? phase sensitivity때문에. "
      ],
      "metadata": {
        "id": "HdrX7gVGURX0"
      },
      "execution_count": null,
      "outputs": []
    },
    {
      "cell_type": "code",
      "source": [
        "praat- 패키지로 모아둔 프로그램 \n",
        "\n",
        "pitch-음의 높낮이 \n",
        "어디의 freq가 많은지 - 진하기 \n",
        "'에'- 480hz, 2200hz, 2800hz에 강하게 \n",
        "아- 800,1400에서 강함. \n",
        "view spectral slice - x축 freq 어떤 성분이 강한가 (산봉우리)"
      ],
      "metadata": {
        "id": "PhrtMX3gtqH8"
      },
      "execution_count": null,
      "outputs": []
    },
    {
      "cell_type": "markdown",
      "source": [
        "# \bAudio Processing\n",
        "---\n",
        "\n",
        "https://musiclab.chromeexperiments.com/Spectrogram/\n",
        "\n",
        "### Fourier transform (분석용) : 스팩트럼 만드는데 들어가는 알고리즘 \n",
        "* spectrum은 주어진 signal에 대해 어떤 주파수 성분이 많이 있나?\n",
        "* spectrogram은 spectrum을 time 축으로 concatenate한 것\n",
        "* 방법: signal (inner product) a series of complex phasors with different frequencies\n",
        "-given signal이 있을때 다양한 사인곡선을 만드는것. \n",
        "다양한 fre를 갖도록\n",
        "-given singal과 그것과 똑같은 길이의 complex phasor을 만들어서 inner product \n",
        "* inner product는 일종의 correlation (즉, 해당 frequency가 얼마나 있는지 probing)\n",
        "-주파수 성분이 들어있다면 높은 cor \n",
        "-왜? 10hz를 얼마를 곱하면 그만큼 있다. \n",
        "* 왜? sine phasor 안 쓰나? phase sensitivity 때문\n",
        "왜 complex? \n",
        "### Filter (변환용)\n",
        "실제로 신호에 대해 변화를 줌. \n",
        "* A --> function -->  B\n",
        "* signal A --> filter --> signal B\n",
        "* 신호 (time function-x축이 time인거)를 입력으로 하는 함수를 filter라고 함\n",
        "* 왜? filter 라고 부름? 이 함수의 목적이 특정 주파수에 대한 manipulation이므로.\n",
        "(예: 어떤 주파수대를 작게, 크게, 통과, 제거 등)\n",
        "* 방법: weighted sum of signal's shifts (두가지 방법: FIR, IIR) \n",
        "\n",
        "  * FIR: Y(k) = b<sub>1</sub>X(k) + b<sub>2</sub>X(k-1) + ... \n",
        "    - Y = H * X\n",
        "  * IIR: a<sub>1</sub>Y(k) + a<sub>2</sub>Y(k-1) + ... = X(k)\n",
        "    - Y = (1/H) * X\n",
        "\n",
        "### Auto correlation\n",
        "* measuring pitch / F0\n",
        "\n",
        "### RMS: root mean square\n",
        "* measuring intensity"
      ],
      "metadata": {
        "id": "1gsMMEn32yiZ"
      }
    },
    {
      "cell_type": "code",
      "source": [
        "#반복되는 부분 - 미세한 떨림. 0.0072초가  1초에 몇번 들어있을까 = 140번 (1/0.007)->주파수\n",
        "#auto cor : 옆으로 이동했을때 값이 비슷해지는 순간이 있음. \n",
        "#y축 cor, x축 lag / 안움직였을때 cor젤 높다가 내려갔다가 어느순간 다시 올라가는. \n",
        "#lag를 발생시켯을때 처음나타나는 cor의 peak를 이용. / lag의 시간이 패턴이 반복되는 시간과 동일 \n",
        "#첫번째 나타나는 correlation의 새로운peak 가 패턴의 길이. \n",
        "#1/ 1st lag peak : auto cor \n",
        "#자기자신과의 cor -> auto \n",
        "#fo(pitch)값을 재는것 \n",
        "\n",
        "#RMS : 0보다 높은거, 낮은거 있는데 그 값들을 다 제곱시켜서 그것의 mean값을 구함. \n",
        "#의미? 진폭을 더 크게 만듬. / 진폭을 재는것. "
      ],
      "metadata": {
        "id": "ZD7xoFyQ8oyK"
      },
      "execution_count": null,
      "outputs": []
    },
    {
      "cell_type": "code",
      "source": [
        "#filter - 어떤 신호에 대해 변형을 주는것. \n",
        "#오케스트라에서 저음부분을 약하게 하고 싶으면, '낮은 주파수 작게 해주세요.' \n",
        "#소리에 대해 변형가하고 싶을때는 주파수로 요청. \n",
        "#왜 필터라 불러? - 변형을 하면 함수라 부름. 소리도 변형을 할 수 있어 함수라 부를수도 잇지만 그래도 필터라는 말 더 씀.\n",
        "#>>특정 주파수에 대한 조작이기 때문에  \n",
        "#시그널을 바꾸는건 필터 \n",
        "#x축이 time(time function)인게 신호 -> 변형-> 복사해서 한칸 옆으로 . \n",
        "#x(K) : one signal, x(K-1): 한칸 옮겨가면서\n",
        "#1/2X(K) + 1/2X(K-1) : 중간값 <- filtered 된것 / 원래 라인은 삐죽한데 이건 완만한 산맥 \n",
        "#IIR은 y(출력)에다가 곱해짐. \n",
        "#FIR은 b1,b2..만 알고있으면 끝./ IIR은Y에다가 곱해짐. 입력 그대로 두고 출력을 shift.  \n",
        "#b1=1 or a1=1 나머진 0으로 하면 필터 효과 없음  "
      ],
      "metadata": {
        "id": "Lx1vEiEHZ_Hj"
      },
      "execution_count": null,
      "outputs": []
    },
    {
      "cell_type": "code",
      "source": [
        "inner product - 똑같은 길이의 숫자가 있을때 각각 곱하고 더하면 하나의 값이 나옴. \n",
        "같은 길이의 두 백터의 곱하고 더한것 -> cor의 정보를 줌. \n",
        "a+bi abs(a+bi) : 원점으로부터의 길이. "
      ],
      "metadata": {
        "id": "AhFZna5E8Coy"
      },
      "execution_count": null,
      "outputs": []
    },
    {
      "cell_type": "code",
      "metadata": {
        "id": "2WAs2J9dWcUv"
      },
      "source": [
        "import numpy as np\n",
        "import matplotlib.pyplot as plt\n",
        "import IPython.display as ipd\n",
        "import librosa, librosa.display"
      ],
      "execution_count": null,
      "outputs": []
    },
    {
      "cell_type": "markdown",
      "source": [
        "### load / plot / play sound file"
      ],
      "metadata": {
        "id": "VyICGWoRAUuV"
      }
    },
    {
      "cell_type": "code",
      "metadata": {
        "id": "7QqXtTXxn9B7"
      },
      "source": [
        "# from google.colab import files\n",
        "# fn = files.upload() - 컴퓨터에 파일이 있을때 \n",
        "import os\n",
        "url = \"https://raw.githubusercontent.com/hsnam95/class2022Spring/main/aeiou.wav\"#깃텁에 있는 아에이오우 \n",
        "os.system(\"curl \" + url + \" > aeiou.wav\") \n",
        "\n",
        "s, sr = librosa.load('aeiou.wav') \n",
        "#48600개 백타의 value(1차원의 array) : s , /sr 1초에 22500 >># 2초 조금 넘음 "
      ],
      "execution_count": null,
      "outputs": []
    },
    {
      "cell_type": "code",
      "source": [
        "s = librosa.util.normalize(s) \n",
        "#normalize를 하면 숫자값의 절대값의 최대값으로 모든 숫자를 나누기. (젤 위에 있는 숫자가 1이됨)\n",
        "#>>1과 -1사이에 숫자가 나오도록. scale up or down \n",
        "# 젤 큰 숫자가 1이 되도록. \n",
        "librosa.display.waveplot(s, sr) #ploting \n",
        "ipd.Audio(s[7000:12000], rate=sr) # 7000~12000번째 샘플을 선택 -> '아' 모음이 있음 / 들어볼수있음 "
      ],
      "metadata": {
        "id": "GYJxi9xvVvt8",
        "outputId": "d895d690-8a1b-4b15-c839-f080fef01b70",
        "colab": {
          "base_uri": "https://localhost:8080/",
          "height": 336
        }
      },
      "execution_count": null,
      "outputs": [
        {
          "output_type": "execute_result",
          "data": {
            "text/plain": [
              "<IPython.lib.display.Audio object>"
            ],
            "text/html": [
              "\n",
              "                <audio controls=\"controls\" >\n",
              "                    <source src=\"data:audio/wav;base64,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\" type=\"audio/wav\" />\n",
              "                    Your browser does not support the audio element.\n",
              "                </audio>\n",
              "              "
            ]
          },
          "metadata": {},
          "execution_count": 3
        },
        {
          "output_type": "display_data",
          "data": {
            "text/plain": [
              "<Figure size 432x288 with 1 Axes>"
            ],
            "image/png": "[encoded data removed]"
          },
          "metadata": {
            "needs_background": "light"
          }
        }
      ]
    },
    {
      "cell_type": "markdown",
      "source": [
        "### Fourier Transform(수학적 기법) for Spectrogram"
      ],
      "metadata": {
        "id": "0OSaiS-7AwZr"
      }
    },
    {
      "cell_type": "code",
      "source": [
        "#'아'로 스팩트로그램 만들어. \n",
        "#스팩트로그램을 어떻게 만드냐 - 스팩트럼을 여러개 만들어야. 한장한장 옆으로 옮겨가면서 만들어 "
      ],
      "metadata": {
        "id": "tdsyaUPQYMO0"
      },
      "execution_count": null,
      "outputs": []
    },
    {
      "cell_type": "code",
      "metadata": {
        "id": "-NcZn-caoYSt"
      },
      "source": [
        "s_preemp = librosa.effects.preemphasis(s)\n",
        "\n",
        "n_fft=512 #총 512개의 주파수 . 얼마나 촘촘하게 스팩트럼을 만드는지. x축을 512개로 나눔. \n",
        "hop_length=int(0.001*sr) # 한장한장사이 갭 \n",
        "win_length=int(sr*0.008) #한장의 길이 \n",
        "#0.008초짜리가 조금씩 이동해서 0.001만큼. 이런 스팩트럼이 여러개 쌓여서 스팩트로그램. \n",
        "#시험 : 한장의 스팩트럼은 밑 그림에서 뭘까 - 까만부분이 amp높은 부분. 입체적으로 \n",
        "#스팩트로그램은 y가 freq .x가 시간 \n",
        "spec = librosa.stft(s_preemp, n_fft=n_fft, hop_length=hop_length, win_length=win_length, window = 'hann') #복소수값\n",
        "#ft는 fourier transform \n",
        "magspec = np.abs(spec) \n",
        "# complex phasor이기 때문에 inner product의 값이 복소수라서 abs사용. a b 의 abs값은 원점으로부터의 거리 \n",
        "#복소수 -> 실수 \n",
        "dBspec = librosa.amplitude_to_db(magspec, ref=np.max) #실수가 나오면 데시벨의 형태로 \n",
        "\n",
        "plt.figure(figsize=(15, 5))\n",
        "librosa.display.specshow(dBspec, sr=sr, x_coords = np.linspace(1, len(s), dBspec.shape[1])/sr , x_axis='time', y_axis='linear', cmap='Greys')\n",
        "plt.ylim((0,5000))\n",
        "#까만부분이 솟아있는 부분. \n",
        "#ft - 분석용 !! "
      ],
      "execution_count": null,
      "outputs": []
    },
    {
      "cell_type": "markdown",
      "source": [
        "### Filter for audio transformation"
      ],
      "metadata": {
        "id": "VZQs9tMxCPad"
      }
    },
    {
      "cell_type": "code",
      "source": [
        "from scipy.signal import lfilter #(b,a,x) ba는 array로 만들어줘야 \n",
        "sig = s[7000:12000] #'아'부분 \n",
        "sig = lfilter(np.array([1]), np.array([1]), sig, axis=0) #linear 필터 / 원래 소리 그대로임 둘다 1넣으면\n",
        "#(b,a , sig) b,a array로 받아서 1 넣으면 소리가 원래 '아'소리 그대로. \n",
        "#np.array([1/2,1/2,1/2]) 넣으면 좀 부드러워짐  \n",
        "librosa.display.waveplot(sig, sr)\n",
        "ipd.Audio(sig, rate=sr)"
      ],
      "metadata": {
        "id": "xlTto7H_RA-U"
      },
      "execution_count": null,
      "outputs": []
    },
    {
      "cell_type": "markdown",
      "source": [
        "### RMS(Root Mean Square) for intensity"
      ],
      "metadata": {
        "id": "N9NfP2cPCw7P"
      }
    },
    {
      "cell_type": "code",
      "metadata": {
        "id": "MkJTYAixfNhK"
      },
      "source": [
        "rms = librosa.feature.rms(s)\n",
        "plt.plot(rms[0])"
      ],
      "execution_count": null,
      "outputs": []
    },
    {
      "cell_type": "markdown",
      "source": [
        "### Autocorrelation for pitch(F0) measurement"
      ],
      "metadata": {
        "id": "O9mNH08CDAR-"
      }
    },
    {
      "cell_type": "code",
      "metadata": {
        "id": "PoOGXdFBgpx1"
      },
      "source": [
        "F0, voiced_flag, voiced_prob = librosa.pyin(s, 60, 200)\n",
        "plt.plot(F0, '.')"
      ],
      "execution_count": null,
      "outputs": []
    }
  ]
}