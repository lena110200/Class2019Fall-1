{
  "nbformat": 4,
  "nbformat_minor": 0,
  "metadata": {
    "colab": {
      "name": "gradio_practice.ipynb",
      "provenance": [],
      "include_colab_link": true
    },
    "kernelspec": {
      "name": "python3",
      "display_name": "Python 3"
    },
    "language_info": {
      "name": "python"
    }
  },
  "cells": [
    {
      "cell_type": "markdown",
      "metadata": {
        "id": "view-in-github",
        "colab_type": "text"
      },
      "source": [
        "<a href=\"https://colab.research.google.com/github/lena110200/Class2022-spring/blob/master/gradio_practice.ipynb\" target=\"_parent\"><img src=\"https://colab.research.google.com/assets/colab-badge.svg\" alt=\"Open In Colab\"/></a>"
      ]
    },
    {
      "cell_type": "markdown",
      "source": [
        "gradio : 입출력을 웹으로 데모로 만든것 /\n",
        "입출력이 있다는건 함수가 있다는것.\n",
        "\n",
        "\n"
      ],
      "metadata": {
        "id": "iZSBiYS4ie4Y"
      }
    },
    {
      "cell_type": "code",
      "source": [
        ""
      ],
      "metadata": {
        "id": "8Q5znRrXieb9"
      },
      "execution_count": null,
      "outputs": []
    },
    {
      "cell_type": "code",
      "execution_count": null,
      "metadata": {
        "id": "ZhrL6xVSQ9bS"
      },
      "outputs": [],
      "source": [
        "def sum(a, b): #define 함수이름(입력변수)\n",
        "\n",
        "  c = int(a + b) #integer\n",
        "  c = '정답은 ' + str(c) + '입니다'\n",
        "  return c"
      ]
    },
    {
      "cell_type": "code",
      "source": [
        "sum(2,3)"
      ],
      "metadata": {
        "id": "1HIgbjYWSBNX",
        "outputId": "834c4ac3-2ef6-490c-b9a7-2e224e2eece4",
        "colab": {
          "base_uri": "https://localhost:8080/",
          "height": 35
        }
      },
      "execution_count": null,
      "outputs": [
        {
          "output_type": "execute_result",
          "data": {
            "text/plain": [
              "'정답은 5입니다'"
            ],
            "application/vnd.google.colaboratory.intrinsic+json": {
              "type": "string"
            }
          },
          "metadata": {},
          "execution_count": 2
        }
      ]
    },
    {
      "cell_type": "code",
      "source": [
        "!pip install gradio #웹으로 예쁘게 만들어주기위해 "
      ],
      "metadata": {
        "id": "sfMdWugISD5M"
      },
      "execution_count": null,
      "outputs": []
    },
    {
      "cell_type": "code",
      "source": [
        "import gradio as gr#import하기 전에 install해줘야함 "
      ],
      "metadata": {
        "id": "buyjOWYWS41q"
      },
      "execution_count": null,
      "outputs": []
    },
    {
      "cell_type": "code",
      "source": [
        "iface = gr.Interface(sum, inputs = [\"number\", \"number\"], outputs = [\"text\"])\n",
        "iface.launch() #gr.interface(함수명, 입력, 출력)#갯수와 타입이 맞아야 #gradio사이트가서 있는걸 적어야됨\n",
        "#입력 둘, 출력 하나 - 입력의 개수와 타입이 맞아야. \n",
        "#output 에는 number없음. str(c)로 해서 text로 바꿔줘. \n",
        "#launch를 해야 데모 형태로 불러옴. "
      ],
      "metadata": {
        "id": "vNlrBEbSS7ge"
      },
      "execution_count": null,
      "outputs": []
    },
    {
      "cell_type": "code",
      "source": [
        "iface = gr.Interface(sum, [gr.inputs.Number(label='input1'), gr.inputs.Number(label='input2')], gr.outputs.Textbox(label='answer'))\n",
        "iface.launch()\n",
        "#gr.inputs.number하고 label \n",
        "#gradio docs에 어떻게 쓰는지 볼수있음 "
      ],
      "metadata": {
        "id": "9C_eEMRCWExA"
      },
      "execution_count": null,
      "outputs": []
    }
  ]
}