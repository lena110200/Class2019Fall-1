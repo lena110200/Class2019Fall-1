{
  "nbformat": 4,
  "nbformat_minor": 0,
  "metadata": {
    "colab": {
      "name": "pipeline.ipynb",
      "provenance": [],
      "include_colab_link": true
    },
    "kernelspec": {
      "name": "python3",
      "display_name": "Python 3"
    },
    "language_info": {
      "name": "python"
    }
  },
  "cells": [
    {
      "cell_type": "markdown",
      "metadata": {
        "id": "view-in-github",
        "colab_type": "text"
      },
      "source": [
        "<a href=\"https://colab.research.google.com/github/lena110200/Class2022-spring/blob/master/pipeline.ipynb\" target=\"_parent\"><img src=\"https://colab.research.google.com/assets/colab-badge.svg\" alt=\"Open In Colab\"/></a>"
      ]
    },
    {
      "cell_type": "markdown",
      "source": [
        "### [Huggingface pipelines](https://huggingface.co/docs/transformers/v4.19.2/en/main_classes/pipelines)"
      ],
      "metadata": {
        "id": "Hsb22sODAkiu"
      }
    },
    {
      "cell_type": "code",
      "source": [
        "pipeline : 함수 \n",
        "모델을 inference할 때 모델을 쉽게 쓰는법 \n",
        "inference : 만들어진 모델을 시행하는것 \n",
        "task-specific "
      ],
      "metadata": {
        "id": "c3OqkZHYG2r0"
      },
      "execution_count": null,
      "outputs": []
    },
    {
      "cell_type": "code",
      "execution_count": null,
      "metadata": {
        "id": "igcmeYcHSWUs"
      },
      "outputs": [],
      "source": [
        "!pip install transformers\n",
        "from transformers import pipeline"
      ]
    },
    {
      "cell_type": "code",
      "source": [
        "pipe = pipeline(task=\"audio-classification\") #task 없애도 됨 . default 모델 가져와 "
      ],
      "metadata": {
        "id": "AbTafwBzZm_v"
      },
      "execution_count": null,
      "outputs": []
    },
    {
      "cell_type": "code",
      "source": [
        "pipe(\"go.wav\") # 위의 모델은 키워드를 스팟하는 / go, stop, left , right인지 "
      ],
      "metadata": {
        "id": "MVzQrk1GIEMX"
      },
      "execution_count": null,
      "outputs": []
    },
    {
      "cell_type": "markdown",
      "source": [
        "> [emotional speech dataset for audio-classification\n",
        "](https://www.kaggle.com/datasets/uwrfkaggler/ravdess-emotional-speech-audio?resource=download)"
      ],
      "metadata": {
        "id": "fcAxqFJW7cQE"
      }
    },
    {
      "cell_type": "code",
      "source": [
        "#위의 링크 : kaggle- 데이터를 모아놓는 "
      ],
      "metadata": {
        "id": "rr0xgdUzJB8K"
      },
      "execution_count": null,
      "outputs": []
    },
    {
      "cell_type": "code",
      "source": [
        "pipe = pipeline(task=\"automatic-speech-recognition\") #model 명시하지 않고 적으면 디폴트 값이 잡혀져있는걸로. \n",
        "#음성인식 모델 "
      ],
      "metadata": {
        "id": "Du0I-rPQZnLs"
      },
      "execution_count": null,
      "outputs": []
    },
    {
      "cell_type": "code",
      "source": [
        "pipe = pipeline(task=\"conversational\") #챗봇. "
      ],
      "metadata": {
        "id": "9Ea2WaXWeYzO"
      },
      "execution_count": null,
      "outputs": []
    },
    {
      "cell_type": "code",
      "source": [
        "from transformers import Conversation \n",
        "\n",
        "conversation_1 = Conversation(\"Going to the movies tonight - any suggestions?\") \n",
        "conversation_2 = Conversation(\"What's the last book you have read?\")\n",
        "pipe([conversation_1, conversation_2]) # list로 해서 pipe에 넣음. \n",
        "#user: 나 , bot: 챗봇 "
      ],
      "metadata": {
        "id": "2aR1i5xPhBgK"
      },
      "execution_count": null,
      "outputs": []
    },
    {
      "cell_type": "code",
      "source": [
        "conversation_1.add_user_input(\"Is it an action movie?\") #로봇발언에 대해 추가질문 \n",
        "conversation_2.add_user_input(\"What is the genre of this book?\")\n",
        "pipe([conversation_1, conversation_2])"
      ],
      "metadata": {
        "id": "7mz4btXyD2ac"
      },
      "execution_count": null,
      "outputs": []
    },
    {
      "cell_type": "code",
      "source": [
        "pipe = pipeline(task=\"feature-extraction\") #"
      ],
      "metadata": {
        "id": "jKmV7A0peiOR"
      },
      "execution_count": null,
      "outputs": []
    },
    {
      "cell_type": "code",
      "source": [
        "pipe(\"What's the last book you have read?\") #feature값들의 숫자나옴. ->비교 "
      ],
      "metadata": {
        "id": "fOr2SXf-keIm"
      },
      "execution_count": null,
      "outputs": []
    },
    {
      "cell_type": "code",
      "source": [
        "pipe = pipeline(task=\"fill-mask\") # "
      ],
      "metadata": {
        "id": "tZzfAxb7Zm8r"
      },
      "execution_count": null,
      "outputs": []
    },
    {
      "cell_type": "code",
      "source": [
        "pipe(\"The goal of life is <mask>.\") "
      ],
      "metadata": {
        "id": "oPlKmG9LNaZ8"
      },
      "execution_count": null,
      "outputs": []
    },
    {
      "cell_type": "code",
      "source": [
        "pipe = pipeline(task=\"image-classification\") # audio에서는 wav파일, 여기선 이미지 파일 넣으면됨"
      ],
      "metadata": {
        "id": "HapJJtnzeiKG"
      },
      "execution_count": null,
      "outputs": []
    },
    {
      "cell_type": "code",
      "source": [
        "pipe = pipeline(task=\"image-segmentation\")"
      ],
      "metadata": {
        "id": "tf-V7IdlZm5h"
      },
      "execution_count": null,
      "outputs": []
    },
    {
      "cell_type": "code",
      "source": [
        "pipe = pipeline(task=\"ner\")"
      ],
      "metadata": {
        "id": "mFB501JrZm28"
      },
      "execution_count": null,
      "outputs": []
    },
    {
      "cell_type": "code",
      "source": [
        "pipe = pipeline(task=\"object-detection\") # pipe안에 영상object파일. object가 뭔지 "
      ],
      "metadata": {
        "id": "yfYGY75aZmzu"
      },
      "execution_count": null,
      "outputs": []
    },
    {
      "cell_type": "code",
      "source": [
        "pipe = pipeline(task=\"question-answering\") #문단나오고 질문하면 답을해주는 "
      ],
      "metadata": {
        "id": "1AMf356WZnFe"
      },
      "execution_count": null,
      "outputs": []
    },
    {
      "cell_type": "code",
      "source": [
        "pipe = pipeline(task=\"sentiment-analysis\") # positive or negative "
      ],
      "metadata": {
        "id": "zKrTtHNZZnIm"
      },
      "execution_count": null,
      "outputs": []
    },
    {
      "cell_type": "code",
      "source": [
        "pipe = pipeline(task=\"summarization\") "
      ],
      "metadata": {
        "id": "gEEd-jBMeiGO"
      },
      "execution_count": null,
      "outputs": []
    },
    {
      "cell_type": "code",
      "source": [
        "import torch\n",
        "print(torch.__version__)\n",
        "!pip install torch-scatter torch-sparse -f https://data.pyg.org/whl/torch-{torch.__version__}.html\n",
        "# maybe need to restart runtime\n",
        "pipe = pipeline(task=\"table-question-answering\") # 테ㅔ이블 주어져 있을때 질문가능. \n",
        "#질문 자연어로 하면 답을 찾아줘 . table data중 맞는걸 retrieve "
      ],
      "metadata": {
        "id": "HsuJwwnde7eR"
      },
      "execution_count": null,
      "outputs": []
    },
    {
      "cell_type": "code",
      "source": [
        "data = {\n",
        "    \"actors\": [\"brad pitt\", \"leonardo di caprio\", \"george clooney\"],\n",
        "    \"age\": [\"56\", \"45\", \"59\"],\n",
        "    \"number of movies\": [\"87\", \"53\", \"69\"],\n",
        "    \"date of birth\": [\"7 february 1967\", \"10 june 1996\", \"28 november 1967\"],\n",
        "}\n",
        "pipe(data, 'how old is brad pitt?') # data 에 dict "
      ],
      "metadata": {
        "id": "A0E0kRi6jukT"
      },
      "execution_count": null,
      "outputs": []
    },
    {
      "cell_type": "code",
      "source": [
        "pipe = pipeline(task=\"text-classification\") "
      ],
      "metadata": {
        "id": "8VrTCfJOZnCm"
      },
      "execution_count": null,
      "outputs": []
    },
    {
      "cell_type": "code",
      "source": [
        "pipe = pipeline(task=\"text-generation\") # 일부의 text주면 나머지 text 생성해줌 "
      ],
      "metadata": {
        "id": "1qrC5pVvZcD1"
      },
      "execution_count": null,
      "outputs": []
    },
    {
      "cell_type": "code",
      "source": [
        "pipe = pipeline(task=\"text2text-generation\")"
      ],
      "metadata": {
        "id": "czfn1yYjfC2q"
      },
      "execution_count": null,
      "outputs": []
    },
    {
      "cell_type": "code",
      "source": [
        "pipe = pipeline(task=\"token-classification\") # token이 뭔지 . 사람, 장소, 조직인지 "
      ],
      "metadata": {
        "id": "saYq0rnbZmxK"
      },
      "execution_count": null,
      "outputs": []
    },
    {
      "cell_type": "code",
      "source": [
        "pipe = pipeline(task=\"translation_en_to_de\") # 영어를 독일어로 "
      ],
      "metadata": {
        "id": "jGdtdjn9fV4K"
      },
      "execution_count": null,
      "outputs": []
    },
    {
      "cell_type": "code",
      "source": [
        "pipe = pipeline(task=\"zero-shot-classification\") # 텍스트 질문 "
      ],
      "metadata": {
        "id": "54J0T-l6fVtI"
      },
      "execution_count": null,
      "outputs": []
    },
    {
      "cell_type": "code",
      "source": [
        "pipe(\"one day I will see the world\", ['travel', 'cooking', 'dancing']) # 어떤 유형의 텍스튼지 맞춰라 "
      ],
      "metadata": {
        "id": "OZj3g-LgEftq"
      },
      "execution_count": null,
      "outputs": []
    },
    {
      "cell_type": "code",
      "source": [
        "pipe = pipeline(task=\"zero-shot-image-classification\") # 데이터 훈련없이 사진을 질문 \n",
        "#사진찍고 고양이다 하는 가르침없이 모델에게 질문. "
      ],
      "metadata": {
        "id": "e8B335KufW17"
      },
      "execution_count": null,
      "outputs": []
    },
    {
      "cell_type": "code",
      "source": [
        "url = \"http://images.cocodataset.org/val2017/000000039769.jpg\"\n",
        "pipe(url, candidate_labels=[\"a photo of a cat\", \"a photo of a dog\"]) #고양이 사진이 61% "
      ],
      "metadata": {
        "id": "epMvhF4sE8pJ"
      },
      "execution_count": null,
      "outputs": []
    }
  ]
}