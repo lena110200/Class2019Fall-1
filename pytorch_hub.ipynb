{
  "nbformat": 4,
  "nbformat_minor": 0,
  "metadata": {
    "colab": {
      "name": "pytorch_hub.ipynb",
      "provenance": [],
      "include_colab_link": true
    },
    "kernelspec": {
      "name": "python3",
      "display_name": "Python 3"
    },
    "language_info": {
      "name": "python"
    }
  },
  "cells": [
    {
      "cell_type": "markdown",
      "metadata": {
        "id": "view-in-github",
        "colab_type": "text"
      },
      "source": [
        "<a href=\"https://colab.research.google.com/github/lena110200/Class2022-spring/blob/master/pytorch_hub.ipynb\" target=\"_parent\"><img src=\"https://colab.research.google.com/assets/colab-badge.svg\" alt=\"Open In Colab\"/></a>"
      ]
    },
    {
      "cell_type": "markdown",
      "source": [
        "### [Pytorch Hub](https://pytorch.org/hub/research-models)"
      ],
      "metadata": {
        "id": "NsJFRaNRhzMk"
      }
    },
    {
      "cell_type": "code",
      "source": [
        "# 연구자들이 많이 쓰는. \n",
        "#PGAN(progressive growing of gans) : high-quality image generation of fashion, celebrity faces\n",
        "#-celebrity얼굴을 랜덤하게 만들어내는. 기존에 있던게 아닌 새로운걸 만들어줌 \n",
        "#AI model들은 huggingface뿐 아니라 TF, pytorch에서도 찾아볼수있다 . TF,Py는 원래는 phython package. 원래는 aimodel이 아님 "
      ],
      "metadata": {
        "id": "iwCO5UB9EQLz"
      },
      "execution_count": null,
      "outputs": []
    },
    {
      "cell_type": "markdown",
      "source": [
        "> image generation (e.g. [PGAN](https://pytorch.org/hub/facebookresearch_pytorch-gan-zoo_pgan/))"
      ],
      "metadata": {
        "id": "mXE-SVAyhwnu"
      }
    },
    {
      "cell_type": "code",
      "execution_count": null,
      "metadata": {
        "id": "Feyy9LQTgG-m"
      },
      "outputs": [],
      "source": [
        "import torch #library\n",
        "model = torch.hub.load('facebookresearch/pytorch_GAN_zoo:hub', 'PGAN', model_name='celebAHQ-512', pretrained=True)\n",
        "#pgan model을 불러옴 / pgan은 알고리즘"
      ]
    },
    {
      "cell_type": "code",
      "source": [
        "num_images = 4 # 4개의 이미지 \n",
        "noise, _ = model.buildNoiseData(num_images) #noise 4개 만듬\n",
        "with torch.no_grad():\n",
        "    generated_images = model.test(noise) #noise를 넣어주면 image가 만들어짐\n",
        "    #/ 랜덤한 숫자(noise)들이 랜덤한 얼굴만듬 \n",
        "\n",
        "# let's plot these images using torchvision and matplotlib\n",
        "import matplotlib.pyplot as plt\n",
        "import torchvision\n",
        "grid = torchvision.utils.make_grid(generated_images.clamp(min=-1, max=1), scale_each=True, normalize=True)\n",
        "plt.imshow(grid.permute(1, 2, 0).cpu().numpy())"
      ],
      "metadata": {
        "id": "-IiNzL3ohYWD"
      },
      "execution_count": null,
      "outputs": []
    },
    {
      "cell_type": "code",
      "source": [
        "#AI model들은 huggingface뿐 아니라 tf, pytorch에서도 찾아볼수있음. \n",
        "#-원랜 ai모델 저장소가 아니고 모델을 편하게 만들수있는 phython package "
      ],
      "metadata": {
        "id": "NoLyd7K4qmTU"
      },
      "execution_count": null,
      "outputs": []
    }
  ]
}