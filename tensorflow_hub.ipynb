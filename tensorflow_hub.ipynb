{
  "nbformat": 4,
  "nbformat_minor": 0,
  "metadata": {
    "colab": {
      "name": "tensorflow_hub.ipynb",
      "provenance": [],
      "include_colab_link": true
    },
    "kernelspec": {
      "name": "python3",
      "display_name": "Python 3"
    },
    "language_info": {
      "name": "python"
    }
  },
  "cells": [
    {
      "cell_type": "markdown",
      "metadata": {
        "id": "view-in-github",
        "colab_type": "text"
      },
      "source": [
        "<a href=\"https://colab.research.google.com/github/lena110200/Class2022-spring/blob/master/tensorflow_hub.ipynb\" target=\"_parent\"><img src=\"https://colab.research.google.com/assets/colab-badge.svg\" alt=\"Open In Colab\"/></a>"
      ]
    },
    {
      "cell_type": "markdown",
      "source": [
        "### [Tensorflow Hub](https://www.tensorflow.org/hub)"
      ],
      "metadata": {
        "id": "8dnF4rJPatAo"
      }
    },
    {
      "cell_type": "code",
      "source": [
        "# tf hub: fine-tuning : pre trained는 기존에 있던 데이터로 훈련시킨거고 fine tuning은 \n",
        "#내가 나의 데이터로 모델을 확장시킨것. / diployable - 바로 써도된다 \n",
        " "
      ],
      "metadata": {
        "id": "5kBHERAD201H"
      },
      "execution_count": null,
      "outputs": []
    },
    {
      "cell_type": "markdown",
      "source": [
        "### image classification (e.g. [inception_v3](https://tfhub.dev/google/imagenet/inception_v3/classification/5))"
      ],
      "metadata": {
        "id": "soPd171Hbbma"
      }
    },
    {
      "cell_type": "code",
      "source": [
        "import tensorflow.compat.v2 as tf\n",
        "import tensorflow_hub as hub"
      ],
      "metadata": {
        "id": "VIJXaAwQ9lXX"
      },
      "execution_count": null,
      "outputs": []
    },
    {
      "cell_type": "code",
      "source": [
        "model = hub.KerasLayer(\"https://tfhub.dev/google/imagenet/inception_v3/classification/5\")"
      ],
      "metadata": {
        "id": "vmzDkBCZZMF-"
      },
      "execution_count": null,
      "outputs": []
    },
    {
      "cell_type": "code",
      "source": [
        "from PIL import Image\n",
        "import requests\n",
        "url = 'http://images.cocodataset.org/val2017/000000039769.jpg'#이미지 여기서 받아올것 \n",
        "image = Image.open(requests.get(url, stream=True).raw) "
      ],
      "metadata": {
        "id": "f3ztc_fNX79F"
      },
      "execution_count": null,
      "outputs": []
    },
    {
      "cell_type": "code",
      "source": [
        "import numpy as np #이미지 바로 쓸수있는게 아니라 np array화 해줌 \n",
        "image = np.array(image) \n",
        "# reshape into shape [batch_size, height, width, num_channels]\n",
        "image = tf.reshape(image, [1, image.shape[0], image.shape[1], image.shape[2]]) \n",
        "# reshape해서 이미지 3차원->4차원으로 바꿔줌 \n",
        "# Use `convert_image_dtype` to convert to floats in the [0,1] range.\n",
        "image = tf.image.convert_image_dtype(image, tf.float32) # 모델을 0에서 1사이로 .밝은색이면 1 "
      ],
      "metadata": {
        "id": "Bqm9LV1rC4eK"
      },
      "execution_count": null,
      "outputs": []
    },
    {
      "cell_type": "code",
      "source": [
        "logits = model(image) #모델에 이미지 넣어주면 출력해줌. / 0에서 1사이의 숫자를 입력으로 \n",
        "# \n",
        "np.argmax(logits) # label이 총 천개 . 282번째거가 가장 확률이 높음 "
      ],
      "metadata": {
        "id": "CRUy_pik9m3o"
      },
      "execution_count": null,
      "outputs": []
    },
    {
      "cell_type": "markdown",
      "source": [
        "> https://storage.googleapis.com/download.tensorflow.org/data/ImageNetLabels.txt"
      ],
      "metadata": {
        "id": "p7zLDQqWaGii"
      }
    }
  ]
}