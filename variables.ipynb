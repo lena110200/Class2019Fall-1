{
  "nbformat": 4,
  "nbformat_minor": 0,
  "metadata": {
    "kernelspec": {
      "display_name": "Python 3",
      "language": "python",
      "name": "python3"
    },
    "language_info": {
      "codemirror_mode": {
        "name": "ipython",
        "version": 3
      },
      "file_extension": ".py",
      "mimetype": "text/x-python",
      "name": "python",
      "nbconvert_exporter": "python",
      "pygments_lexer": "ipython3",
      "version": "3.7.1"
    },
    "colab": {
      "name": "variables.ipynb",
      "provenance": [],
      "include_colab_link": true
    }
  },
  "cells": [
    {
      "cell_type": "markdown",
      "metadata": {
        "id": "view-in-github",
        "colab_type": "text"
      },
      "source": [
        "<a href=\"https://colab.research.google.com/github/lena110200/Class2022-spring/blob/master/variables.ipynb\" target=\"_parent\"><img src=\"https://colab.research.google.com/assets/colab-badge.svg\" alt=\"Open In Colab\"/></a>"
      ]
    },
    {
      "cell_type": "code",
      "metadata": {
        "id": "goAyoU7vRheI",
        "outputId": "bf67675b-af0c-41c8-dfb1-8e1a396964c6",
        "colab": {
          "base_uri": "https://localhost:8080/"
        }
      },
      "source": [
        "a = 1; print(type(a)) "
      ],
      "execution_count": 1,
      "outputs": [
        {
          "output_type": "stream",
          "name": "stdout",
          "text": [
            "<class 'int'>\n"
          ]
        }
      ]
    },
    {
      "cell_type": "code",
      "source": [
        "print(a) #변수안의 내용이 나옴 "
      ],
      "metadata": {
        "id": "Zd4Vuac-EKPh",
        "outputId": "cc6a0212-e140-4231-e462-39b0fe85b494",
        "colab": {
          "base_uri": "https://localhost:8080/"
        }
      },
      "execution_count": 2,
      "outputs": [
        {
          "output_type": "stream",
          "name": "stdout",
          "text": [
            "1\n"
          ]
        }
      ]
    },
    {
      "cell_type": "markdown",
      "source": [
        "int: 정수 \n",
        "print(type(a)): a의 type을 보여줘라 \n",
        "\n",
        "실수(float) : 1.1 ,1.0  \n"
      ],
      "metadata": {
        "id": "pD9laajgXSUm"
      }
    },
    {
      "cell_type": "code",
      "metadata": {
        "id": "txxnoqJuRheJ",
        "outputId": "d0ab6a07-667d-431c-f03a-05def857a570",
        "colab": {
          "base_uri": "https://localhost:8080/"
        }
      },
      "source": [
        "a = 1.1; print(type(a))"
      ],
      "execution_count": null,
      "outputs": [
        {
          "output_type": "stream",
          "name": "stdout",
          "text": [
            "<class 'float'>\n"
          ]
        }
      ]
    },
    {
      "cell_type": "code",
      "metadata": {
        "id": "SyP0PB86RheL",
        "outputId": "ff11887b-e41c-4912-99a1-83e7f5383f9f",
        "colab": {
          "base_uri": "https://localhost:8080/"
        }
      },
      "source": [
        "a = '123'; print(type(a)); print(a[1]) #quote를 해주면 str"
      ],
      "execution_count": null,
      "outputs": [
        {
          "output_type": "stream",
          "name": "stdout",
          "text": [
            "<class 'str'>\n",
            "2\n"
          ]
        }
      ]
    },
    {
      "cell_type": "markdown",
      "source": [
        "string '' \n",
        "숫자여도 quote가 있으면 str"
      ],
      "metadata": {
        "id": "IzHpL2HqYGHv"
      }
    },
    {
      "cell_type": "code",
      "metadata": {
        "id": "EKYj0dvIHPo0",
        "outputId": "7b8694c8-c444-4ca0-fffd-373858243d27",
        "colab": {
          "base_uri": "https://localhost:8080/"
        }
      },
      "source": [
        "a = 'hello'; print(type(a)); print(a[1])"
      ],
      "execution_count": null,
      "outputs": [
        {
          "output_type": "stream",
          "name": "stdout",
          "text": [
            "<class 'str'>\n",
            "e\n"
          ]
        }
      ]
    },
    {
      "cell_type": "code",
      "metadata": {
        "id": "Df6PhU-tHXr2",
        "outputId": "a63b53dc-6b41-45f5-a7bf-a8195254ad04",
        "colab": {
          "base_uri": "https://localhost:8080/"
        }
      },
      "source": [
        "a = [1, 2, 3, 4]; print(type(a)); print(a[0])"
      ],
      "execution_count": null,
      "outputs": [
        {
          "output_type": "stream",
          "name": "stdout",
          "text": [
            "<class 'list'>\n",
            "1\n"
          ]
        }
      ]
    },
    {
      "cell_type": "markdown",
      "source": [
        "변수에는 숫자, 문자, list 있음. \n",
        "list- 여러개를 담을 수 있음. [] 대괄호 사용 , 숫자 문자 들어갈 수 있음 \n",
        "\n",
        "4개의 item 중 부분만 사용 \n",
        ": a[0] - a의 0번째 "
      ],
      "metadata": {
        "id": "wdySd118Yb_T"
      }
    },
    {
      "cell_type": "code",
      "source": [
        "a[1:3] #print안해도 됨. / 젤 마지막 줄은 print를 안해도됨 "
      ],
      "metadata": {
        "id": "Yy60nPLmZNOE",
        "outputId": "2afb28df-2a10-449c-83c8-4188bc4c586d",
        "colab": {
          "base_uri": "https://localhost:8080/"
        }
      },
      "execution_count": null,
      "outputs": [
        {
          "output_type": "execute_result",
          "data": {
            "text/plain": [
              "[2, 3]"
            ]
          },
          "metadata": {},
          "execution_count": 11
        }
      ]
    },
    {
      "cell_type": "markdown",
      "source": [
        "1번째부터 2번째 포함하고 싶으면 1:3해야함 \n",
        "- 뒤에 숫자는 그 숫자를 포함하지 않음. "
      ],
      "metadata": {
        "id": "Qn8qlajYZlWJ"
      }
    },
    {
      "cell_type": "code",
      "source": [
        "a[:] #젤 처음부터 끝까지 "
      ],
      "metadata": {
        "id": "eZPPe7SkZ7Ze",
        "outputId": "1e44b54d-7188-4de0-ce08-8623f9ffdd8e",
        "colab": {
          "base_uri": "https://localhost:8080/"
        }
      },
      "execution_count": null,
      "outputs": [
        {
          "output_type": "execute_result",
          "data": {
            "text/plain": [
              "[1, 2, 3, 4]"
            ]
          },
          "metadata": {},
          "execution_count": 12
        }
      ]
    },
    {
      "cell_type": "code",
      "source": [
        "a[2:] #[ : 4]하면 첨부터 "
      ],
      "metadata": {
        "id": "CdxbnzJDaDqj",
        "outputId": "c70756df-0bb8-4cba-d66e-9fff09efe167",
        "colab": {
          "base_uri": "https://localhost:8080/"
        }
      },
      "execution_count": null,
      "outputs": [
        {
          "output_type": "execute_result",
          "data": {
            "text/plain": [
              "[3, 4]"
            ]
          },
          "metadata": {},
          "execution_count": 13
        }
      ]
    },
    {
      "cell_type": "code",
      "source": [
        "a[2:-1] #끝에서 하나 뺀 "
      ],
      "metadata": {
        "id": "WdDFO9ywaIuk",
        "outputId": "516e1408-25d4-4ea8-ffda-aa43fb3f82fa",
        "colab": {
          "base_uri": "https://localhost:8080/"
        }
      },
      "execution_count": null,
      "outputs": [
        {
          "output_type": "execute_result",
          "data": {
            "text/plain": [
              "[3]"
            ]
          },
          "metadata": {},
          "execution_count": 14
        }
      ]
    },
    {
      "cell_type": "code",
      "metadata": {
        "id": "DfS-gknCRheL",
        "outputId": "7ffb558c-124d-4e5f-8d74-00901527bf6e",
        "colab": {
          "base_uri": "https://localhost:8080/"
        }
      },
      "source": [
        "a = [1,'a', [3, '4']]; print(type(a)); print(a[0]); print(a[1]); print(a[2]); print(a[2][1]) #item 3개 "
      ],
      "execution_count": 6,
      "outputs": [
        {
          "output_type": "stream",
          "name": "stdout",
          "text": [
            "<class 'list'>\n",
            "1\n",
            "a\n",
            "[3, '4']\n",
            "4\n"
          ]
        }
      ]
    },
    {
      "cell_type": "markdown",
      "source": [
        "숫자, str, list포함 /\n",
        "item 3개 \n",
        "\n",
        "a[2][1] : 두번째 중에 첫번째 -> 4 \n",
        "\n",
        "\n",
        "\n",
        "\n"
      ],
      "metadata": {
        "id": "02nF4NGuYu1w"
      }
    },
    {
      "cell_type": "code",
      "source": [
        "a[2][1]"
      ],
      "metadata": {
        "id": "jCY0AFrPG0Mj",
        "outputId": "5cf0332b-5a85-4273-88fc-c4705678c581",
        "colab": {
          "base_uri": "https://localhost:8080/",
          "height": 35
        }
      },
      "execution_count": 9,
      "outputs": [
        {
          "output_type": "execute_result",
          "data": {
            "text/plain": [
              "'4'"
            ],
            "application/vnd.google.colaboratory.intrinsic+json": {
              "type": "string"
            }
          },
          "metadata": {},
          "execution_count": 9
        }
      ]
    },
    {
      "cell_type": "code",
      "source": [
        "a= 'abcdef123' #9 chars"
      ],
      "metadata": {
        "id": "DYIHEcgdbuNw"
      },
      "execution_count": null,
      "outputs": []
    },
    {
      "cell_type": "code",
      "source": [
        "type(a)"
      ],
      "metadata": {
        "id": "KFhe5hSObxxa",
        "outputId": "bb066309-3ee9-44a0-fe0d-ac178d5f65bc",
        "colab": {
          "base_uri": "https://localhost:8080/"
        }
      },
      "execution_count": null,
      "outputs": [
        {
          "output_type": "execute_result",
          "data": {
            "text/plain": [
              "str"
            ]
          },
          "metadata": {},
          "execution_count": 23
        }
      ]
    },
    {
      "cell_type": "code",
      "source": [
        "a[:3]#처음부터 012"
      ],
      "metadata": {
        "id": "nviVF231b0Rx",
        "outputId": "6fe5d69c-0c3d-4a16-d72d-17eb31aa5cf0",
        "colab": {
          "base_uri": "https://localhost:8080/",
          "height": 35
        }
      },
      "execution_count": null,
      "outputs": [
        {
          "output_type": "execute_result",
          "data": {
            "text/plain": [
              "'abc'"
            ],
            "application/vnd.google.colaboratory.intrinsic+json": {
              "type": "string"
            }
          },
          "metadata": {},
          "execution_count": 24
        }
      ]
    },
    {
      "cell_type": "code",
      "source": [
        "a[3:-1] #d부터 2까지  "
      ],
      "metadata": {
        "id": "Bs5Edy1rb9B-",
        "outputId": "76706d5a-b392-49bb-eb59-e89c489bc801",
        "colab": {
          "base_uri": "https://localhost:8080/",
          "height": 35
        }
      },
      "execution_count": null,
      "outputs": [
        {
          "output_type": "execute_result",
          "data": {
            "text/plain": [
              "'def12'"
            ],
            "application/vnd.google.colaboratory.intrinsic+json": {
              "type": "string"
            }
          },
          "metadata": {},
          "execution_count": 26
        }
      ]
    },
    {
      "cell_type": "markdown",
      "source": [
        "list랑 str은 indexing하는 방법이 같음 \n",
        "\n",
        "변수) 숫자, string, list, dict\n",
        "list ~ tuple(괄호사용) - 내부 info를 바꾸는게 안되게있음 \n"
      ],
      "metadata": {
        "id": "RJL1L8fdcGfs"
      }
    },
    {
      "cell_type": "code",
      "metadata": {
        "id": "2sivfloGRheM",
        "outputId": "b50715f9-b6b5-4dfd-b83e-c0e81955ae1b",
        "colab": {
          "base_uri": "https://localhost:8080/"
        }
      },
      "source": [
        "a =\t{\"a\": \"apple\", \"b\": \"orange\", \"c\": 2014} #dict / 3개의 item / \"\"말고''해도됨\n",
        "#\"key\" : \"value\"  \n",
        "#안에 있는 걸 '' str으로 바꿔도 ㄱㅊ \n",
        "print(type(a))\n",
        "print(a[\"a\"]) #a라는 key에 있는 내용을 가져와라 / key에 숫자와도 됨 \n",
        "#숫자의 정보는 x a[0]하면 에러 "
      ],
      "execution_count": null,
      "outputs": [
        {
          "output_type": "stream",
          "name": "stdout",
          "text": [
            "<class 'dict'>\n",
            "apple\n"
          ]
        }
      ]
    }
  ]
}